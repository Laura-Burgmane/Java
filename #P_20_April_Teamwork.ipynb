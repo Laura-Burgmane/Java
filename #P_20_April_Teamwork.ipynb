{
  "nbformat": 4,
  "nbformat_minor": 0,
  "metadata": {
    "colab": {
      "provenance": [],
      "authorship_tag": "ABX9TyNZM/wc/yXFabHi1Pu/j2O/",
      "include_colab_link": true
    },
    "kernelspec": {
      "name": "python3",
      "display_name": "Python 3"
    },
    "language_info": {
      "name": "python"
    }
  },
  "cells": [
    {
      "cell_type": "markdown",
      "metadata": {
        "id": "view-in-github",
        "colab_type": "text"
      },
      "source": [
        "<a href=\"https://colab.research.google.com/github/Laura-Burgmane/Java/blob/main/%23P_20_April_Teamwork.ipynb\" target=\"_parent\"><img src=\"https://colab.research.google.com/assets/colab-badge.svg\" alt=\"Open In Colab\"/></a>"
      ]
    },
    {
      "cell_type": "code",
      "execution_count": null,
      "metadata": {
        "colab": {
          "base_uri": "https://localhost:8080/"
        },
        "id": "cB2nRDJSwGrj",
        "outputId": "a89ccee2-9415-4dac-d05c-aee945f0108c"
      },
      "outputs": [
        {
          "output_type": "stream",
          "name": "stdout",
          "text": [
            "2 is lower than 5\n",
            "4 is lower than 5\n",
            "4 is lower than 5\n",
            "7 is higher than 5\n",
            "8 is higher than 5\n",
            "4 is lower than 5\n",
            "10 is higher than 5\n",
            "4 is lower than 5\n",
            "4 is lower than 5\n",
            "8 is higher than 5\n"
          ]
        }
      ],
      "source": [
        "import random\n",
        "\n",
        "# Generate a list of 10 random numbers\n",
        "random_numbers = [random.randint(1, 10) for _ in range(10)]\n",
        "\n",
        "# Iterate through the list of numbers\n",
        "for number in random_numbers:\n",
        "    # Check if the number is higher, lower, or equal to 5\n",
        "    if number > 5:\n",
        "        print(f\"{number} is higher than 5\")\n",
        "    elif number < 5:\n",
        "        print(f\"{number} is lower than 5\")\n",
        "    else:\n",
        "        print(f\"{number} is neither lower, nor higher than 5\")"
      ]
    }
  ]
}